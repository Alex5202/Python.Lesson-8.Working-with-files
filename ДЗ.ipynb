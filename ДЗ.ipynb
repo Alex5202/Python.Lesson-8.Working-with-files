{
  "nbformat": 4,
  "nbformat_minor": 0,
  "metadata": {
    "colab": {
      "provenance": [],
      "authorship_tag": "ABX9TyMobScqPurMbAJ9YRIwDqUM",
      "include_colab_link": true
    },
    "kernelspec": {
      "name": "python3",
      "display_name": "Python 3"
    },
    "language_info": {
      "name": "python"
    }
  },
  "cells": [
    {
      "cell_type": "markdown",
      "metadata": {
        "id": "view-in-github",
        "colab_type": "text"
      },
      "source": [
        "<a href=\"https://colab.research.google.com/github/Alex5202/Python.Lesson-8.Working-with-files/blob/main/%D0%94%D0%97.ipynb\" target=\"_parent\"><img src=\"https://colab.research.google.com/assets/colab-badge.svg\" alt=\"Open In Colab\"/></a>"
      ]
    },
    {
      "cell_type": "code",
      "execution_count": 1,
      "metadata": {
        "colab": {
          "base_uri": "https://localhost:8080/"
        },
        "id": "-tP-g7x98oMA",
        "outputId": "569c74fa-8bdd-4243-da8b-9a30b41d2325"
      },
      "outputs": [
        {
          "output_type": "stream",
          "name": "stdout",
          "text": [
            "   human  robot\n",
            "0      1      0\n",
            "1      1      0\n",
            "2      1      0\n",
            "3      0      1\n",
            "4      0      1\n"
          ]
        }
      ],
      "source": [
        "import pandas as pd\n",
        "import random\n",
        "\n",
        "# Создаем исходный DataFrame\n",
        "lst = ['robot'] * 10 + ['human'] * 10\n",
        "random.shuffle(lst)\n",
        "data = pd.DataFrame({'whoAmI': lst})\n",
        "\n",
        "# Создаем one-hot представление\n",
        "unique_values = data['whoAmI'].unique()\n",
        "for value in unique_values:\n",
        "    data[value] = (data['whoAmI'] == value).astype(int)\n",
        "\n",
        "# Удаляем исходный столбец\n",
        "data = data.drop('whoAmI', axis=1)\n",
        "\n",
        "print(data.head())"
      ]
    }
  ]
}